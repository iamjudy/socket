{
 "cells": [
  {
   "cell_type": "code",
   "execution_count": 1,
   "metadata": {},
   "outputs": [],
   "source": [
    "import socket"
   ]
  },
  {
   "cell_type": "code",
   "execution_count": 2,
   "metadata": {},
   "outputs": [],
   "source": [
    "import threading\n",
    "import http.server"
   ]
  },
  {
   "cell_type": "code",
   "execution_count": null,
   "metadata": {},
   "outputs": [],
   "source": [
    "#head\n",
    "import requests\n",
    "\n",
    "res = requests.head('http://127.0.0.1:80/head.html')\n",
    "print(res)"
   ]
  },
  {
   "cell_type": "code",
   "execution_count": null,
   "metadata": {},
   "outputs": [],
   "source": [
    "#post\n",
    "import requests\n",
    "my_id = {'id': '107306052'}\n",
    "\n",
    "#將資料加入 POST 請求中\n",
    "r = requests.post('http://127.0.0.1:80/post.html', data = my_id)\n",
    "print(r)"
   ]
  },
  {
   "cell_type": "code",
   "execution_count": 3,
   "metadata": {},
   "outputs": [],
   "source": [
    "s = socket.socket(socket.AF_INET, socket.SOCK_STREAM)"
   ]
  },
  {
   "cell_type": "code",
   "execution_count": 4,
   "metadata": {},
   "outputs": [],
   "source": [
    "pars = ('127.0.0.1', 80) # you can change the server port to whatever you want\n",
    "s.bind(pars)"
   ]
  },
  {
   "cell_type": "code",
   "execution_count": 5,
   "metadata": {},
   "outputs": [],
   "source": [
    "s.listen(5)"
   ]
  },
  {
   "cell_type": "code",
   "execution_count": 6,
   "metadata": {},
   "outputs": [],
   "source": [
    "def get_method(data):\n",
    "    index = data.find(\"\\r\\n\")\n",
    "    if index == -1:\n",
    "        return \"\"\n",
    "    first_line = data[:index]\n",
    "    arrs = first_line.split()\n",
    "    method = arrs[0]\n",
    "    return method"
   ]
  },
  {
   "cell_type": "code",
   "execution_count": 7,
   "metadata": {},
   "outputs": [],
   "source": [
    "def get_path(data):\n",
    "    index = data.find(\"\\r\\n\")\n",
    "    if index == -1:\n",
    "        return \"\"\n",
    "    first_line = data[:index]\n",
    "    arrs = first_line.split()\n",
    "    if len(arrs) != 3:\n",
    "        return \"\"\n",
    "    path = arrs[1]\n",
    "    return path"
   ]
  },
  {
   "cell_type": "code",
   "execution_count": 8,
   "metadata": {},
   "outputs": [],
   "source": [
    "def get_html_by_path(method,path):\n",
    "    if method == 'GET':\n",
    "        if path == '/get.html':\n",
    "            return get_index()\n",
    "        elif path=='/redirect.html':\n",
    "            return get_redirect()\n",
    "        elif path=='/notfound.html':\n",
    "            return get_404()\n",
    "\n",
    "html_string = \"\"\"\n",
    "    <html><body>good.html</body></html>\n",
    "\"\"\"\n",
    "\n",
    "notfound = \"\"\"\n",
    "    <html><body>404 Not Found</body></html>\n",
    "\"\"\"\n",
    "\n",
    "head_string = \"HTTP/1.1 {status}\\r\\nServer: simple server\\r\\n\"\\\n",
    "           \"Content-Type: text/html; charset=utf-8\\r\\n\"\\\n",
    "           \"Content-Length: {length}\\r\\nConnection: close\\r\\n\\r\\n\"\n",
    "\n",
    "def get_html(status):\n",
    "    length = len(html_string.encode())\n",
    "    if status=='301 Moved Permanently':\n",
    "        head = head_string1.format(status=status, length=length)\n",
    "    else:\n",
    "        head = head_string.format(status=status, length=length)\n",
    "    return head\n",
    "\n",
    "def get_redirect():\n",
    "    return get_html('301 Moved Permanently')+html_string\n",
    "    \n",
    "def get_404():\n",
    "    return (\"HTTP/1.0 404 Not Found\\r\\nServer: simple server\\r\\n\" \\\n",
    "           \"Content-Type: text/html; charset=utf-8\\r\\n\" \\\n",
    "           \"Connection: close\\r\\n\\r\\n\")\n",
    "\n",
    "def get_index():\n",
    "    return get_html(\"200 OK\")+html_string\n",
    "\n",
    "# a new thread is created for every new accepted client\n",
    "# every new thread starts from the function below"
   ]
  },
  {
   "cell_type": "code",
   "execution_count": 9,
   "metadata": {},
   "outputs": [],
   "source": [
    "def serveClient(clientsocket, address):\n",
    "    \n",
    "    # we need a loop to continuously receive messages from the client\n",
    "    while True:\n",
    "        # then receive at most 1024 bytes message and store these bytes in a variable named 'data'\n",
    "        # you can set the buffer size to any value you like\n",
    "        request = clientsocket.recv(1024).decode()\n",
    "        \n",
    "        path = get_path(request)\n",
    "\n",
    "        msg = get_html_by_path(path)\n",
    "        clientsocket.send(msg.encode())\n",
    "        \n",
    "        \n",
    "        if request.startswith('GET /redirect.html'):\n",
    "            clientsocket.send(b'HTTP/1.1 301 Moved Permanently\\r\\n')\n",
    "            clientsocket.send(b'Location: http://127.0.0.1/get.html')\n",
    "            clientsocket.close()\n",
    "            break\n",
    "        \n",
    "        if request.startswith('HEAD /head.html'):\n",
    "            clientsocket.send(b'HTTP/1.1 200 OK\\r\\n')\n",
    "            clientsocket.close()\n",
    "            break\n",
    "                \n",
    "        if request.startswith('POST /post.html'):\n",
    "            clientsocket.send(b'HTTP/1.1 200 OK\\r\\n')\n",
    "            clientsocket.send(b'<html><body>107306052</body></html>')\n",
    "            clientsocket.close()\n",
    "            break\n",
    "        \n",
    "        \n",
    "        # we need some condition to terminate the socket\n",
    "        # lets see if the client sends some termination message to the server\n",
    "        # if so, then the server close the socket \n",
    "        clientsocket.close()\n",
    "\n",
    "    s.close()"
   ]
  },
  {
   "cell_type": "code",
   "execution_count": null,
   "metadata": {},
   "outputs": [],
   "source": [
    "while True:\n",
    "    # accept a new client and get it's information\n",
    "    (clientsocket, address) = s.accept()\n",
    "    \n",
    "    # create a new thread to serve this new client\n",
    "    # after the thread is created, it will start to execute 'target' function with arguments 'args' \n",
    "    threading.Thread(target = serveClient, args = (clientsocket, address)).start()"
   ]
  },
  {
   "cell_type": "code",
   "execution_count": null,
   "metadata": {},
   "outputs": [],
   "source": []
  },
  {
   "cell_type": "code",
   "execution_count": null,
   "metadata": {},
   "outputs": [],
   "source": []
  },
  {
   "cell_type": "code",
   "execution_count": null,
   "metadata": {},
   "outputs": [],
   "source": []
  },
  {
   "cell_type": "code",
   "execution_count": null,
   "metadata": {},
   "outputs": [],
   "source": []
  }
 ],
 "metadata": {
  "kernelspec": {
   "display_name": "Python 3",
   "language": "python",
   "name": "python3"
  },
  "language_info": {
   "codemirror_mode": {
    "name": "ipython",
    "version": 3
   },
   "file_extension": ".py",
   "mimetype": "text/x-python",
   "name": "python",
   "nbconvert_exporter": "python",
   "pygments_lexer": "ipython3",
   "version": "3.8.3"
  }
 },
 "nbformat": 4,
 "nbformat_minor": 4
}
